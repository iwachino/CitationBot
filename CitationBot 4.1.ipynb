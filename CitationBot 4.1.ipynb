{
 "cells": [
  {
   "cell_type": "code",
   "execution_count": 1,
   "id": "3be5bfed",
   "metadata": {},
   "outputs": [
    {
     "name": "stdout",
     "output_type": "stream",
     "text": [
      "Paper title: \n",
      "Publication year: \n",
      "Enter primary author surname: \n",
      "Enter primary author initials: \n",
      "Journal title: \n",
      "\n",
      "\n",
      "Add another author? (yes/no): \n",
      "Second author surname: \n",
      "Second author initials: \n",
      "\n",
      "\n",
      ", , , , . . . \n",
      "Add another author? (yes/no): \n",
      "Third author surname: \n",
      "Third author initials: \n",
      "\n",
      "\n",
      ", , , , , , . . . \n",
      "Add another author? (yes/no): \n",
      "Fourth author surname: \n",
      "Fourth author initials: \n",
      "\n",
      "\n",
      ", , , , , , , , . . . \n"
     ]
    }
   ],
   "source": [
    "# hopefully using \"while loops\" this time to aid in number of authors\n",
    "# ... or maybe just doing it the old fashioned way\n",
    "\n",
    "pap_title = input(\"Paper title: \")\n",
    "pub_date = input(\"Publication year: \")\n",
    "prim_author_surname = input(\"Enter primary author surname: \")\n",
    "prim_author_initials = input(\"Enter primary author initials: \")\n",
    "journal_title = input(\"Journal title: \")\n",
    "print(\"\\n\")\n",
    "\n",
    "sec_author = input(\"Add another author? (yes/no): \")\n",
    "\n",
    "if sec_author == \"yes\" or \"Yes\":\n",
    "    sec_author_surname = input(\"Second author surname: \")\n",
    "    sec_author_initials = input(\"Second author initials: \")\n",
    "    print(\"\\n\")\n",
    "    print(prim_author_surname + \", \" + prim_author_initials + \", \" + sec_author_surname + \", \" + sec_author_initials + \", \" + pub_date + \". \" + pap_title +\". \"+ journal_title +\". \" )\n",
    "\n",
    "else:\n",
    "    print(\"\\n\")\n",
    "    print(prim_author_surname + \", \" + prim_author_initials + \", \" + pub_date + \". \" + pap_title+ \". \" + journal_title + \". \")\n",
    "\n",
    "third_author = input(\"Add another author? (yes/no): \")\n",
    "\n",
    "if third_author == \"yes\" or \"Yes\":\n",
    "    third_author_surname = input(\"Third author surname: \")\n",
    "    third_author_initials = input(\"Third author initials: \")\n",
    "    print(\"\\n\")\n",
    "    print(prim_author_surname + \", \" + prim_author_initials + \", \" + sec_author_surname + \", \" + sec_author_initials + \", \" + third_author_surname + \", \" + third_author_initials + \", \" + pub_date + \". \" + pap_title +\". \"+ journal_title +\". \" )\n",
    "\n",
    "else:\n",
    "    print(\"\\n\")\n",
    "    print(prim_author_surname + \", \" + prim_author_initials + \", \" + sec_author_surname + \", \" + sec_author_initials + \", \" + pub_date + \". \" + pap_title +\". \"+ journal_title +\". \" )\n",
    "\n",
    "fourth_author = input(\"Add another author? (yes/no): \")\n",
    "\n",
    "if fourth_author == \"yes\" or \"Yes\":\n",
    "    fourth_author_surname = input(\"Fourth author surname: \")\n",
    "    fourth_author_initials = input(\"Fourth author initials: \")\n",
    "    print(\"\\n\")\n",
    "    print(prim_author_surname + \", \" + prim_author_initials + \", \" + sec_author_surname + \", \" + sec_author_initials + \", \" + third_author_surname + \", \" + third_author_initials + \", \"+ fourth_author_surname + \", \" + fourth_author_initials + \", \" + pub_date + \". \" + pap_title +\". \"+ journal_title +\". \" )\n",
    "\n",
    "else:\n",
    "    print(\"\\n\")\n",
    "    print(prim_author_surname + \", \" + prim_author_initials + \", \" + sec_author_surname + \", \" + sec_author_initials + \", \" + third_author_surname + \", \" + third_author_initials + \", \" + pub_date + \". \" + pap_title +\". \"+ journal_title +\". \" )\n"
   ]
  },
  {
   "cell_type": "code",
   "execution_count": null,
   "id": "3b0e132a",
   "metadata": {},
   "outputs": [],
   "source": []
  }
 ],
 "metadata": {
  "kernelspec": {
   "display_name": "Python 3 (ipykernel)",
   "language": "python",
   "name": "python3"
  },
  "language_info": {
   "codemirror_mode": {
    "name": "ipython",
    "version": 3
   },
   "file_extension": ".py",
   "mimetype": "text/x-python",
   "name": "python",
   "nbconvert_exporter": "python",
   "pygments_lexer": "ipython3",
   "version": "3.9.7"
  }
 },
 "nbformat": 4,
 "nbformat_minor": 5
}
