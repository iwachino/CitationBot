{
 "cells": [
  {
   "cell_type": "code",
   "execution_count": 22,
   "id": "3be5bfed",
   "metadata": {},
   "outputs": [
    {
     "name": "stdout",
     "output_type": "stream",
     "text": [
      "Paper title: test\n",
      "Publication year: test\n",
      "Enter primary author surname: test\n",
      "Enter primary author initials: test\n",
      "Journal title: test\n",
      "\n",
      "\n",
      "Add another author? (yes/no): Yes\n",
      "Second author surname: Roering\n",
      "Second author initials: fe\n",
      "\n",
      "\n",
      "test, test, Roering, fe, test. test. test. \n",
      "Add another author? (yes/no): yes\n",
      "Third author surname: bice\n",
      "Third author initials: t.s.\n",
      "\n",
      "\n",
      "test, test, Roering, fe, bice, t.s., test. test. test. \n",
      "Add another author? (yes/no): yes\n",
      "Third author surname: walter\n",
      "Third author initials: R.J.\n",
      "\n",
      "\n",
      "test, test, Roering, fe, bice, t.s., walter, R.J., test. test. test. \n"
     ]
    }
   ],
   "source": [
    "# hopefully using \"while loops\" this time to aid in number of authors\n",
    "# ... or maybe just doing it the old fashioned way\n",
    "\n",
    "pap_title = input(\"Paper title: \")\n",
    "pub_date = input(\"Publication year: \")\n",
    "prim_author_surname = input(\"Enter primary author surname: \")\n",
    "prim_author_initials = input(\"Enter primary author initials: \")\n",
    "journal_title = input(\"Journal title: \")\n",
    "print(\"\\n\")\n",
    "\n",
    "sec_author = input(\"Add another author? (yes/no): \")\n",
    "\n",
    "if sec_author == \"yes\" or \"Yes\":\n",
    "    sec_author_surname = input(\"Second author surname: \")\n",
    "    sec_author_initials = input(\"Second author initials: \")\n",
    "    print(\"\\n\")\n",
    "    print(prim_author_surname + \", \" + prim_author_initials + \", \" + sec_author_surname + \", \" + sec_author_initials + \", \" + pub_date + \". \" + pap_title +\". \"+ journal_title +\". \" )\n",
    "\n",
    "else:\n",
    "    print(\"\\n\")\n",
    "    print(prim_author_surname + \", \" + prim_author_initials + \", \" + pub_date + \". \" + pap_title+ \". \" + journal_title + \". \")\n",
    "\n",
    "third_author = input(\"Add another author? (yes/no): \")\n",
    "\n",
    "if third_author == \"yes\" or \"Yes\":\n",
    "    third_author_surname = input(\"Third author surname: \")\n",
    "    third_author_initials = input(\"Third author initials: \")\n",
    "    print(\"\\n\")\n",
    "    print(prim_author_surname + \", \" + prim_author_initials + \", \" + sec_author_surname + \", \" + sec_author_initials + \", \" + third_author_surname + \", \" + third_author_initials + \", \" + pub_date + \". \" + pap_title +\". \"+ journal_title +\". \" )\n",
    "\n",
    "else:\n",
    "    print(\"\\n\")\n",
    "    print(prim_author_surname + \", \" + prim_author_initials + \", \" + sec_author_surname + \", \" + sec_author_initials + \", \" + pub_date + \". \" + pap_title +\". \"+ journal_title +\". \" )\n",
    "\n",
    "fourth_author = input(\"Add another author? (yes/no): \")\n",
    "\n",
    "if fourth_author == \"yes\" or \"Yes\":\n",
    "    fourth_author_surname = input(\"Fourth author surname: \")\n",
    "    fourth_author_initials = input(\"Fourth author initials: \")\n",
    "    print(\"\\n\")\n",
    "    print(prim_author_surname + \", \" + prim_author_initials + \", \" + sec_author_surname + \", \" + sec_author_initials + \", \" + third_author_surname + \", \" + third_author_initials + \", \"+ fourth_author_surname + \", \" + fourth_author_initials + \", \" + pub_date + \". \" + pap_title +\". \"+ journal_title +\". \" )\n",
    "\n",
    "else:\n",
    "    print(\"\\n\")\n",
    "    print(prim_author_surname + \", \" + prim_author_initials + \", \" + sec_author_surname + \", \" + sec_author_initials + \", \" + third_author_surname + \", \" + third_author_initials + \", \" + pub_date + \". \" + pap_title +\". \"+ journal_title +\". \" )\n"
   ]
  },
  {
   "cell_type": "code",
   "execution_count": null,
   "id": "3b0e132a",
   "metadata": {},
   "outputs": [],
   "source": []
  },
  {
   "cell_type": "code",
   "execution_count": null,
   "id": "daa04818",
   "metadata": {},
   "outputs": [],
   "source": []
  },
  {
   "cell_type": "code",
   "execution_count": 15,
   "id": "3dc0a204",
   "metadata": {
    "scrolled": true
   },
   "outputs": [
    {
     "ename": "NameError",
     "evalue": "name 'jfa' is not defined",
     "output_type": "error",
     "traceback": [
      "\u001b[0;31m---------------------------------------------------------------------------\u001b[0m",
      "\u001b[0;31mNameError\u001b[0m                                 Traceback (most recent call last)",
      "\u001b[0;32m/var/folders/ll/9wgwhqh14fb43tg8892knk680000gn/T/ipykernel_13867/2354023598.py\u001b[0m in \u001b[0;36m<module>\u001b[0;34m\u001b[0m\n\u001b[0;32m----> 1\u001b[0;31m jfa[ds\n\u001b[0m\u001b[1;32m      2\u001b[0m    ]\n",
      "\u001b[0;31mNameError\u001b[0m: name 'jfa' is not defined"
     ]
    }
   ],
   "source": []
  },
  {
   "cell_type": "code",
   "execution_count": null,
   "id": "49771cab",
   "metadata": {},
   "outputs": [],
   "source": []
  },
  {
   "cell_type": "code",
   "execution_count": null,
   "id": "12de86f9",
   "metadata": {},
   "outputs": [],
   "source": []
  }
 ],
 "metadata": {
  "kernelspec": {
   "display_name": "Python 3 (ipykernel)",
   "language": "python",
   "name": "python3"
  },
  "language_info": {
   "codemirror_mode": {
    "name": "ipython",
    "version": 3
   },
   "file_extension": ".py",
   "mimetype": "text/x-python",
   "name": "python",
   "nbconvert_exporter": "python",
   "pygments_lexer": "ipython3",
   "version": "3.9.7"
  }
 },
 "nbformat": 4,
 "nbformat_minor": 5
}
